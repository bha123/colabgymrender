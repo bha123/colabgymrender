{
  "nbformat": 4,
  "nbformat_minor": 0,
  "metadata": {
    "colab": {
      "provenance": []
    },
    "kernelspec": {
      "name": "python3",
      "display_name": "Python 3"
    },
    "language_info": {
      "name": "python"
    }
  },
  "cells": [
    {
      "cell_type": "code",
      "execution_count": 1,
      "metadata": {
        "colab": {
          "base_uri": "https://localhost:8080/"
        },
        "id": "D5zXxyN8clJA",
        "outputId": "faa32032-1c2a-4316-e961-7f909477fd99"
      },
      "outputs": [
        {
          "output_type": "stream",
          "name": "stdout",
          "text": [
            "Looking in indexes: https://pypi.org/simple, https://us-python.pkg.dev/colab-wheels/public/simple/\n",
            "Requirement already satisfied: gym[accept-rom-license] in /usr/local/lib/python3.8/dist-packages (0.25.2)\n",
            "Requirement already satisfied: cloudpickle>=1.2.0 in /usr/local/lib/python3.8/dist-packages (from gym[accept-rom-license]) (1.5.0)\n",
            "Requirement already satisfied: numpy>=1.18.0 in /usr/local/lib/python3.8/dist-packages (from gym[accept-rom-license]) (1.21.6)\n",
            "Requirement already satisfied: gym-notices>=0.0.4 in /usr/local/lib/python3.8/dist-packages (from gym[accept-rom-license]) (0.0.8)\n",
            "Requirement already satisfied: importlib-metadata>=4.8.0 in /usr/local/lib/python3.8/dist-packages (from gym[accept-rom-license]) (4.13.0)\n",
            "Collecting autorom[accept-rom-license]~=0.4.2\n",
            "  Downloading AutoROM-0.4.2-py3-none-any.whl (16 kB)\n",
            "Requirement already satisfied: tqdm in /usr/local/lib/python3.8/dist-packages (from autorom[accept-rom-license]~=0.4.2->gym[accept-rom-license]) (4.64.1)\n",
            "Requirement already satisfied: click in /usr/local/lib/python3.8/dist-packages (from autorom[accept-rom-license]~=0.4.2->gym[accept-rom-license]) (7.1.2)\n",
            "Requirement already satisfied: importlib-resources in /usr/local/lib/python3.8/dist-packages (from autorom[accept-rom-license]~=0.4.2->gym[accept-rom-license]) (5.10.0)\n",
            "Requirement already satisfied: requests in /usr/local/lib/python3.8/dist-packages (from autorom[accept-rom-license]~=0.4.2->gym[accept-rom-license]) (2.23.0)\n",
            "Collecting AutoROM.accept-rom-license\n",
            "  Downloading AutoROM.accept-rom-license-0.4.2.tar.gz (9.8 kB)\n",
            "  Installing build dependencies ... \u001b[?25l\u001b[?25hdone\n",
            "  Getting requirements to build wheel ... \u001b[?25l\u001b[?25hdone\n",
            "    Preparing wheel metadata ... \u001b[?25l\u001b[?25hdone\n",
            "Requirement already satisfied: zipp>=0.5 in /usr/local/lib/python3.8/dist-packages (from importlib-metadata>=4.8.0->gym[accept-rom-license]) (3.10.0)\n",
            "Requirement already satisfied: urllib3!=1.25.0,!=1.25.1,<1.26,>=1.21.1 in /usr/local/lib/python3.8/dist-packages (from requests->autorom[accept-rom-license]~=0.4.2->gym[accept-rom-license]) (1.24.3)\n",
            "Requirement already satisfied: idna<3,>=2.5 in /usr/local/lib/python3.8/dist-packages (from requests->autorom[accept-rom-license]~=0.4.2->gym[accept-rom-license]) (2.10)\n",
            "Requirement already satisfied: chardet<4,>=3.0.2 in /usr/local/lib/python3.8/dist-packages (from requests->autorom[accept-rom-license]~=0.4.2->gym[accept-rom-license]) (3.0.4)\n",
            "Requirement already satisfied: certifi>=2017.4.17 in /usr/local/lib/python3.8/dist-packages (from requests->autorom[accept-rom-license]~=0.4.2->gym[accept-rom-license]) (2022.9.24)\n",
            "Building wheels for collected packages: AutoROM.accept-rom-license\n",
            "  Building wheel for AutoROM.accept-rom-license (PEP 517) ... \u001b[?25l\u001b[?25hdone\n",
            "  Created wheel for AutoROM.accept-rom-license: filename=AutoROM.accept_rom_license-0.4.2-py3-none-any.whl size=441028 sha256=fb5bc4c97fe027b0b3b9b4a54e16fdeee6946bb48b15e2b973ad6f18c962027d\n",
            "  Stored in directory: /root/.cache/pip/wheels/51/08/c5/28b973078691a3f8baf99fcaec1ed8f0e05ef6e54d2390212c\n",
            "Successfully built AutoROM.accept-rom-license\n",
            "Installing collected packages: AutoROM.accept-rom-license, autorom\n",
            "Successfully installed AutoROM.accept-rom-license-0.4.2 autorom-0.4.2\n"
          ]
        }
      ],
      "source": [
        "!pip install gym[accept-rom-license]"
      ]
    },
    {
      "cell_type": "code",
      "source": [
        "!pip install gym[all]"
      ],
      "metadata": {
        "colab": {
          "base_uri": "https://localhost:8080/",
          "height": 1000
        },
        "id": "iDhwua9QdC2q",
        "outputId": "91814c7a-ab9c-4dcb-d06d-553e615534bc"
      },
      "execution_count": 5,
      "outputs": [
        {
          "output_type": "stream",
          "name": "stdout",
          "text": [
            "Looking in indexes: https://pypi.org/simple, https://us-python.pkg.dev/colab-wheels/public/simple/\n",
            "Requirement already satisfied: gym[all] in /usr/local/lib/python3.8/dist-packages (0.25.2)\n",
            "Requirement already satisfied: importlib-metadata>=4.8.0 in /usr/local/lib/python3.8/dist-packages (from gym[all]) (4.13.0)\n",
            "Requirement already satisfied: cloudpickle>=1.2.0 in /usr/local/lib/python3.8/dist-packages (from gym[all]) (1.5.0)\n",
            "Requirement already satisfied: gym-notices>=0.0.4 in /usr/local/lib/python3.8/dist-packages (from gym[all]) (0.0.8)\n",
            "Requirement already satisfied: numpy>=1.18.0 in /usr/local/lib/python3.8/dist-packages (from gym[all]) (1.21.6)\n",
            "Collecting box2d-py==2.3.5\n",
            "  Downloading box2d-py-2.3.5.tar.gz (374 kB)\n",
            "\u001b[K     |████████████████████████████████| 374 kB 4.2 MB/s \n",
            "\u001b[?25hRequirement already satisfied: opencv-python>=3.0 in /usr/local/lib/python3.8/dist-packages (from gym[all]) (4.6.0.66)\n",
            "Collecting ale-py~=0.7.5\n",
            "  Downloading ale_py-0.7.5-cp38-cp38-manylinux_2_17_x86_64.manylinux2014_x86_64.whl (1.6 MB)\n",
            "\u001b[K     |████████████████████████████████| 1.6 MB 57.6 MB/s \n",
            "\u001b[?25hCollecting mujoco==2.2.0\n",
            "  Downloading mujoco-2.2.0-cp38-cp38-manylinux_2_17_x86_64.manylinux2014_x86_64.whl (3.6 MB)\n",
            "\u001b[K     |████████████████████████████████| 3.6 MB 35.8 MB/s \n",
            "\u001b[?25hCollecting swig==4.*\n",
            "  Downloading swig-4.1.0-py2.py3-none-manylinux_2_5_x86_64.manylinux1_x86_64.whl (1.8 MB)\n",
            "\u001b[K     |████████████████████████████████| 1.8 MB 24.3 MB/s \n",
            "\u001b[?25hCollecting mujoco-py<2.2,>=2.1\n",
            "  Downloading mujoco_py-2.1.2.14-py3-none-any.whl (2.4 MB)\n",
            "\u001b[K     |████████████████████████████████| 2.4 MB 20.0 MB/s \n",
            "\u001b[?25hCollecting pytest==7.0.1\n",
            "  Downloading pytest-7.0.1-py3-none-any.whl (296 kB)\n",
            "\u001b[K     |████████████████████████████████| 296 kB 70.8 MB/s \n",
            "\u001b[?25hCollecting lz4>=3.1.0\n",
            "  Downloading lz4-4.0.2-cp38-cp38-manylinux_2_17_x86_64.manylinux2014_x86_64.whl (1.2 MB)\n",
            "\u001b[K     |████████████████████████████████| 1.2 MB 68.8 MB/s \n",
            "\u001b[?25hCollecting pygame==2.1.0\n",
            "  Downloading pygame-2.1.0-cp38-cp38-manylinux_2_17_x86_64.manylinux2014_x86_64.whl (18.3 MB)\n",
            "\u001b[K     |████████████████████████████████| 18.3 MB 119 kB/s \n",
            "\u001b[?25hRequirement already satisfied: matplotlib>=3.0 in /usr/local/lib/python3.8/dist-packages (from gym[all]) (3.2.2)\n",
            "Collecting imageio>=2.14.1\n",
            "  Downloading imageio-2.22.4-py3-none-any.whl (3.4 MB)\n",
            "\u001b[K     |████████████████████████████████| 3.4 MB 41.0 MB/s \n",
            "\u001b[?25hRequirement already satisfied: absl-py in /usr/local/lib/python3.8/dist-packages (from mujoco==2.2.0->gym[all]) (1.3.0)\n",
            "Requirement already satisfied: pyopengl in /usr/local/lib/python3.8/dist-packages (from mujoco==2.2.0->gym[all]) (3.1.6)\n",
            "Collecting glfw\n",
            "  Downloading glfw-2.5.5-py2.py27.py3.py30.py31.py32.py33.py34.py35.py36.py37.py38-none-manylinux2014_x86_64.whl (207 kB)\n",
            "\u001b[K     |████████████████████████████████| 207 kB 58.6 MB/s \n",
            "\u001b[?25hRequirement already satisfied: packaging in /usr/local/lib/python3.8/dist-packages (from pytest==7.0.1->gym[all]) (21.3)\n",
            "Collecting pluggy<2.0,>=0.12\n",
            "  Downloading pluggy-1.0.0-py2.py3-none-any.whl (13 kB)\n",
            "Requirement already satisfied: attrs>=19.2.0 in /usr/local/lib/python3.8/dist-packages (from pytest==7.0.1->gym[all]) (22.1.0)\n",
            "Requirement already satisfied: py>=1.8.2 in /usr/local/lib/python3.8/dist-packages (from pytest==7.0.1->gym[all]) (1.11.0)\n",
            "Requirement already satisfied: tomli>=1.0.0 in /usr/local/lib/python3.8/dist-packages (from pytest==7.0.1->gym[all]) (2.0.1)\n",
            "Collecting iniconfig\n",
            "  Downloading iniconfig-1.1.1-py2.py3-none-any.whl (5.0 kB)\n",
            "Requirement already satisfied: importlib-resources in /usr/local/lib/python3.8/dist-packages (from ale-py~=0.7.5->gym[all]) (5.10.0)\n",
            "Collecting pillow>=8.3.2\n",
            "  Downloading Pillow-9.3.0-cp38-cp38-manylinux_2_17_x86_64.manylinux2014_x86_64.whl (3.2 MB)\n",
            "\u001b[K     |████████████████████████████████| 3.2 MB 41.0 MB/s \n",
            "\u001b[?25hRequirement already satisfied: zipp>=0.5 in /usr/local/lib/python3.8/dist-packages (from importlib-metadata>=4.8.0->gym[all]) (3.10.0)\n",
            "Requirement already satisfied: kiwisolver>=1.0.1 in /usr/local/lib/python3.8/dist-packages (from matplotlib>=3.0->gym[all]) (1.4.4)\n",
            "Requirement already satisfied: pyparsing!=2.0.4,!=2.1.2,!=2.1.6,>=2.0.1 in /usr/local/lib/python3.8/dist-packages (from matplotlib>=3.0->gym[all]) (3.0.9)\n",
            "Requirement already satisfied: python-dateutil>=2.1 in /usr/local/lib/python3.8/dist-packages (from matplotlib>=3.0->gym[all]) (2.8.2)\n",
            "Requirement already satisfied: cycler>=0.10 in /usr/local/lib/python3.8/dist-packages (from matplotlib>=3.0->gym[all]) (0.11.0)\n",
            "Requirement already satisfied: cffi>=1.10 in /usr/local/lib/python3.8/dist-packages (from mujoco-py<2.2,>=2.1->gym[all]) (1.15.1)\n",
            "Requirement already satisfied: Cython>=0.27.2 in /usr/local/lib/python3.8/dist-packages (from mujoco-py<2.2,>=2.1->gym[all]) (0.29.32)\n",
            "Collecting fasteners~=0.15\n",
            "  Downloading fasteners-0.18-py3-none-any.whl (18 kB)\n",
            "Requirement already satisfied: pycparser in /usr/local/lib/python3.8/dist-packages (from cffi>=1.10->mujoco-py<2.2,>=2.1->gym[all]) (2.21)\n",
            "Requirement already satisfied: six>=1.5 in /usr/local/lib/python3.8/dist-packages (from python-dateutil>=2.1->matplotlib>=3.0->gym[all]) (1.15.0)\n",
            "Building wheels for collected packages: box2d-py\n",
            "  Building wheel for box2d-py (setup.py) ... \u001b[?25lerror\n",
            "\u001b[31m  ERROR: Failed building wheel for box2d-py\u001b[0m\n",
            "\u001b[?25h  Running setup.py clean for box2d-py\n",
            "Failed to build box2d-py\n",
            "Installing collected packages: pillow, pluggy, iniconfig, imageio, glfw, fasteners, swig, pytest, pygame, mujoco-py, mujoco, lz4, box2d-py, ale-py\n",
            "  Attempting uninstall: pillow\n",
            "    Found existing installation: Pillow 7.1.2\n",
            "    Uninstalling Pillow-7.1.2:\n",
            "      Successfully uninstalled Pillow-7.1.2\n",
            "  Attempting uninstall: pluggy\n",
            "    Found existing installation: pluggy 0.7.1\n",
            "    Uninstalling pluggy-0.7.1:\n",
            "      Successfully uninstalled pluggy-0.7.1\n",
            "  Attempting uninstall: imageio\n",
            "    Found existing installation: imageio 2.4.1\n",
            "    Uninstalling imageio-2.4.1:\n",
            "      Successfully uninstalled imageio-2.4.1\n",
            "  Attempting uninstall: pytest\n",
            "    Found existing installation: pytest 3.6.4\n",
            "    Uninstalling pytest-3.6.4:\n",
            "      Successfully uninstalled pytest-3.6.4\n",
            "    Running setup.py install for box2d-py ... \u001b[?25l\u001b[?25hdone\n",
            "\u001b[33m  DEPRECATION: box2d-py was installed using the legacy 'setup.py install' method, because a wheel could not be built for it. A possible replacement is to fix the wheel build issue reported above. You can find discussion regarding this at https://github.com/pypa/pip/issues/8368.\u001b[0m\n",
            "Successfully installed ale-py-0.7.5 box2d-py-2.3.5 fasteners-0.18 glfw-2.5.5 imageio-2.22.4 iniconfig-1.1.1 lz4-4.0.2 mujoco-2.2.0 mujoco-py-2.1.2.14 pillow-9.3.0 pluggy-1.0.0 pygame-2.1.0 pytest-7.0.1 swig-4.1.0\n"
          ]
        },
        {
          "output_type": "display_data",
          "data": {
            "application/vnd.colab-display-data+json": {
              "pip_warning": {
                "packages": [
                  "PIL",
                  "gym",
                  "imageio"
                ]
              }
            }
          },
          "metadata": {}
        }
      ]
    },
    {
      "cell_type": "code",
      "source": [
        "!apt-get install -y xvfb python-opengl ffmpeg > /dev/null 2>&1\n",
        "!pip install colabgymrender"
      ],
      "metadata": {
        "colab": {
          "base_uri": "https://localhost:8080/"
        },
        "id": "G4Mla8gTcrnI",
        "outputId": "547f3597-256d-4f90-b81e-97e1c0448487"
      },
      "execution_count": 2,
      "outputs": [
        {
          "output_type": "stream",
          "name": "stdout",
          "text": [
            "Looking in indexes: https://pypi.org/simple, https://us-python.pkg.dev/colab-wheels/public/simple/\n",
            "Collecting colabgymrender\n",
            "  Downloading colabgymrender-1.1.0.tar.gz (3.5 kB)\n",
            "Requirement already satisfied: moviepy in /usr/local/lib/python3.8/dist-packages (from colabgymrender) (0.2.3.5)\n",
            "Requirement already satisfied: decorator<5.0,>=4.0.2 in /usr/local/lib/python3.8/dist-packages (from moviepy->colabgymrender) (4.4.2)\n",
            "Requirement already satisfied: numpy in /usr/local/lib/python3.8/dist-packages (from moviepy->colabgymrender) (1.21.6)\n",
            "Requirement already satisfied: tqdm<5.0,>=4.11.2 in /usr/local/lib/python3.8/dist-packages (from moviepy->colabgymrender) (4.64.1)\n",
            "Requirement already satisfied: imageio<3.0,>=2.1.2 in /usr/local/lib/python3.8/dist-packages (from moviepy->colabgymrender) (2.9.0)\n",
            "Requirement already satisfied: pillow in /usr/local/lib/python3.8/dist-packages (from imageio<3.0,>=2.1.2->moviepy->colabgymrender) (7.1.2)\n",
            "Building wheels for collected packages: colabgymrender\n",
            "  Building wheel for colabgymrender (setup.py) ... \u001b[?25l\u001b[?25hdone\n",
            "  Created wheel for colabgymrender: filename=colabgymrender-1.1.0-py3-none-any.whl size=3130 sha256=94d19aed4b25c4e83797278104af7f55d72c8016a5e92cd93d1b3a2c95d035fa\n",
            "  Stored in directory: /root/.cache/pip/wheels/e4/d2/e1/cc1c940178ad92438325422b51c3e8c3d927b9ef8381da8840\n",
            "Successfully built colabgymrender\n",
            "Installing collected packages: colabgymrender\n",
            "Successfully installed colabgymrender-1.1.0\n"
          ]
        }
      ]
    },
    {
      "cell_type": "code",
      "source": [
        "!pip install imageio==2.4.1"
      ],
      "metadata": {
        "colab": {
          "base_uri": "https://localhost:8080/",
          "height": 302
        },
        "id": "V2LHFrftc2yx",
        "outputId": "d4516435-7f76-4952-d550-164acad52eb6"
      },
      "execution_count": 2,
      "outputs": [
        {
          "output_type": "stream",
          "name": "stdout",
          "text": [
            "Looking in indexes: https://pypi.org/simple, https://us-python.pkg.dev/colab-wheels/public/simple/\n",
            "Collecting imageio==2.4.1\n",
            "  Using cached imageio-2.4.1-py3-none-any.whl\n",
            "Requirement already satisfied: numpy in /usr/local/lib/python3.8/dist-packages (from imageio==2.4.1) (1.21.6)\n",
            "Requirement already satisfied: pillow in /usr/local/lib/python3.8/dist-packages (from imageio==2.4.1) (9.3.0)\n",
            "Installing collected packages: imageio\n",
            "  Attempting uninstall: imageio\n",
            "    Found existing installation: imageio 2.22.4\n",
            "    Uninstalling imageio-2.22.4:\n",
            "      Successfully uninstalled imageio-2.22.4\n",
            "Successfully installed imageio-2.4.1\n"
          ]
        },
        {
          "output_type": "display_data",
          "data": {
            "application/vnd.colab-display-data+json": {
              "pip_warning": {
                "packages": [
                  "imageio"
                ]
              }
            }
          },
          "metadata": {}
        }
      ]
    },
    {
      "cell_type": "code",
      "source": [
        "import gym\n",
        "from colabgymrender.recorder import Recorder\n",
        "\n",
        "env = gym.make(\"Breakout-v0\")\n",
        "directory = './video'\n",
        "env = Recorder(env, directory)\n",
        "\n",
        "observation = env.reset()\n",
        "terminal = False\n",
        "while not terminal:\n",
        "  action = env.action_space.sample()\n",
        "  observation, reward, terminal, info = env.step(action)\n",
        "\n",
        "env.play()"
      ],
      "metadata": {
        "colab": {
          "base_uri": "https://localhost:8080/",
          "height": 644
        },
        "id": "eDeUZ-7bc7xR",
        "outputId": "bcf203bb-a4ab-40d1-d0bd-de82bda41806"
      },
      "execution_count": 1,
      "outputs": [
        {
          "output_type": "stream",
          "name": "stderr",
          "text": [
            "WARNING:py.warnings:/usr/local/lib/python3.8/dist-packages/gym/envs/registration.py:593: UserWarning: \u001b[33mWARN: The environment Breakout-v0 is out of date. You should consider upgrading to version `v4`.\u001b[0m\n",
            "  logger.warn(\n",
            "\n",
            "WARNING:py.warnings:/usr/local/lib/python3.8/dist-packages/gym/core.py:317: DeprecationWarning: \u001b[33mWARN: Initializing wrapper in old step API which returns one bool instead of two. It is recommended to set `new_step_api=True` to use new step API. This will be the default behaviour in future.\u001b[0m\n",
            "  deprecation(\n",
            "\n",
            "WARNING:py.warnings:/usr/local/lib/python3.8/dist-packages/gym/wrappers/step_api_compatibility.py:39: DeprecationWarning: \u001b[33mWARN: Initializing environment in old step API which returns one bool instead of two. It is recommended to set `new_step_api=True` to use new step API. This will be the default behaviour in future.\u001b[0m\n",
            "  deprecation(\n",
            "\n",
            "WARNING:py.warnings:/usr/local/lib/python3.8/dist-packages/gym/core.py:43: DeprecationWarning: \u001b[33mWARN: The argument mode in render method is deprecated; use render_mode during environment initialization instead.\n",
            "See here for more information: https://www.gymlibrary.ml/content/api/\u001b[0m\n",
            "  deprecation(\n",
            "\n",
            "WARNING:py.warnings:/usr/local/lib/python3.8/dist-packages/gym/utils/passive_env_checker.py:297: UserWarning: \u001b[33mWARN: No render fps was declared in the environment (env.metadata['render_fps'] is None or not defined), rendering may occur at inconsistent fps.\u001b[0m\n",
            "  logger.warn(\n",
            "\n",
            "WARNING:py.warnings:/usr/local/lib/python3.8/dist-packages/gym/utils/passive_env_checker.py:227: DeprecationWarning: \u001b[33mWARN: Core environment is written in old step API which returns one bool instead of two. It is recommended to rewrite the environment with new step API. \u001b[0m\n",
            "  logger.deprecation(\n",
            "\n",
            "WARNING:py.warnings:/usr/local/lib/python3.8/dist-packages/moviepy/video/io/ffmpeg_reader.py:145: DeprecationWarning: The binary mode of fromstring is deprecated, as it behaves surprisingly on unicode inputs. Use frombuffer instead\n",
            "  result = np.fromstring(s, dtype='uint8')\n",
            "\n"
          ]
        },
        {
          "output_type": "display_data",
          "data": {
            "text/plain": [
              "<IPython.core.display.Video object>"
            ],
            "text/html": [
              "<video controls  >\n",
              " <source src=\"data:video/mp4;base64,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\" type=\"video/mp4\">\n",
              " Your browser does not support the video tag.\n",
              " </video>"
            ]
          },
          "metadata": {}
        }
      ]
    }
  ]
}